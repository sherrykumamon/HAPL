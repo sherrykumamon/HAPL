{
  "nbformat": 4,
  "nbformat_minor": 0,
  "metadata": {
    "colab": {
      "provenance": []
    },
    "kernelspec": {
      "name": "python3",
      "display_name": "Python 3"
    },
    "language_info": {
      "name": "python"
    }
  },
  "cells": [
    {
      "cell_type": "code",
      "execution_count": null,
      "metadata": {
        "colab": {
          "base_uri": "https://localhost:8080/"
        },
        "id": "XchlvtMR5NAK",
        "outputId": "23e97806-285f-47ea-a3b3-f587e83fd726"
      },
      "outputs": [
        {
          "output_type": "stream",
          "name": "stdout",
          "text": [
            "I'm a student\n"
          ]
        }
      ],
      "source": [
        "print(\"I'm a student\")"
      ]
    },
    {
      "cell_type": "code",
      "source": [
        "import math\n",
        "x1=eval(input())\n",
        "y1=eval(input())\n",
        "\n",
        "x2=eval(input())\n",
        "y2=eval(input())\n",
        "\n",
        "Dis=math.sqrt((x1-x2)**2+(y1-y2)**2)\n",
        "print(\"(\",x1,\",\",y1,\")\")\n",
        "print(\"(\",x2,\",\",y2,\")\")\n",
        "print(\"Distance = {:.4f}\".format(Dis))"
      ],
      "metadata": {
        "id": "OUNp-mq95k0F",
        "colab": {
          "base_uri": "https://localhost:8080/"
        },
        "outputId": "6e36674e-c833-4227-f96f-da6d932bf1b1"
      },
      "execution_count": 6,
      "outputs": [
        {
          "output_type": "stream",
          "name": "stdout",
          "text": [
            "12\n",
            "13\n",
            "2\n",
            "4\n",
            "( 12 , 13 )\n",
            "( 2 , 4 )\n",
            "Distance = 13.4536\n"
          ]
        }
      ]
    },
    {
      "cell_type": "code",
      "source": [
        "hight=int(input())\n",
        "weight=int(input())\n",
        "\n",
        "hight/=100\n",
        "ans=weight/(hight**2)\n",
        "print(\"BMI={:.2f}\".format(ans))\n",
        "\n",
        "\n"
      ],
      "metadata": {
        "colab": {
          "base_uri": "https://localhost:8080/"
        },
        "id": "s1g48R89_EVy",
        "outputId": "d8f48223-0f99-4511-909f-3bfb530fe14c"
      },
      "execution_count": 10,
      "outputs": [
        {
          "output_type": "stream",
          "name": "stdout",
          "text": [
            "160\n",
            "60\n",
            "BMI=23.44\n"
          ]
        }
      ]
    }
  ]
}