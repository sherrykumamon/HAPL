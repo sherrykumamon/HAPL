{
  "nbformat": 4,
  "nbformat_minor": 0,
  "metadata": {
    "colab": {
      "provenance": []
    },
    "kernelspec": {
      "name": "python3",
      "display_name": "Python 3"
    },
    "language_info": {
      "name": "python"
    }
  },
  "cells": [
    {
      "cell_type": "code",
      "execution_count": null,
      "metadata": {
        "colab": {
          "base_uri": "https://localhost:8080/"
        },
        "id": "yg0AMGTQ3xI9",
        "outputId": "ff3e52fa-4718-4921-f6ce-82225fc26c9d"
      },
      "outputs": [
        {
          "output_type": "stream",
          "name": "stdout",
          "text": [
            "Ans.= 495\n"
          ]
        }
      ],
      "source": [
        "X=2\n",
        "Y=1\n",
        "a=2*X+Y\n",
        "b=100-Y\n",
        "Z=a*b\n",
        "print(\"Ans.=\",Z)"
      ]
    },
    {
      "cell_type": "code",
      "source": [
        "Y=4\n",
        "a=100\n",
        "b=2*Y+1\n",
        "Z=a/b\n",
        "print(\"Ans.=\",Z)\n"
      ],
      "metadata": {
        "colab": {
          "base_uri": "https://localhost:8080/"
        },
        "id": "59S3kMiqa3e7",
        "outputId": "1da78853-c98e-4963-9a07-ea2907e70a7c"
      },
      "execution_count": null,
      "outputs": [
        {
          "output_type": "stream",
          "name": "stdout",
          "text": [
            "Ans.= 11.11111111111111\n"
          ]
        }
      ]
    },
    {
      "cell_type": "code",
      "source": [
        "Y=4\n",
        "a=100\n",
        "b=2*Y+1\n",
        "Z=round(a/b)\n",
        "print(\"Ans.=\",Z)"
      ],
      "metadata": {
        "colab": {
          "base_uri": "https://localhost:8080/"
        },
        "id": "kenN_pbgbXdr",
        "outputId": "6fced9b2-c123-4fdb-9281-9c50a42e2018"
      },
      "execution_count": null,
      "outputs": [
        {
          "output_type": "stream",
          "name": "stdout",
          "text": [
            "Ans.= 11\n"
          ]
        }
      ]
    },
    {
      "cell_type": "markdown",
      "source": [],
      "metadata": {
        "id": "E5qz43aybc16"
      }
    }
  ]
}