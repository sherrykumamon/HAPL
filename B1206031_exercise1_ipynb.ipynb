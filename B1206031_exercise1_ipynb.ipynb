{
  "nbformat": 4,
  "nbformat_minor": 0,
  "metadata": {
    "colab": {
      "provenance": []
    },
    "kernelspec": {
      "name": "python3",
      "display_name": "Python 3"
    },
    "language_info": {
      "name": "python"
    }
  },
  "cells": [
    {
      "cell_type": "code",
      "execution_count": 1,
      "metadata": {
        "id": "ZZ2iO4qyibin",
        "colab": {
          "base_uri": "https://localhost:8080/"
        },
        "outputId": "ad2ae008-ded4-464f-c661-45cc61d67821"
      },
      "outputs": [
        {
          "output_type": "stream",
          "name": "stdout",
          "text": [
            "長庚大學\n",
            "職治系\n",
            "官翎軒\n"
          ]
        }
      ],
      "source": [
        "print(\"\"\"長庚大學\n",
        "職治系\n",
        "官翎軒\"\"\")"
      ]
    },
    {
      "cell_type": "code",
      "source": [
        "a=3\n",
        "b=5\n",
        "print(int(a**b))\n",
        "print(float(a**b))"
      ],
      "metadata": {
        "colab": {
          "base_uri": "https://localhost:8080/"
        },
        "id": "sananxLrzL-O",
        "outputId": "d78a68a3-08e0-46c4-8e3d-92cfc3601af5"
      },
      "execution_count": 7,
      "outputs": [
        {
          "output_type": "stream",
          "name": "stdout",
          "text": [
            "243\n",
            "243.0\n"
          ]
        }
      ]
    },
    {
      "cell_type": "code",
      "source": [
        "a=3\n",
        "b=5\n",
        "a/=b\n",
        "print(a)"
      ],
      "metadata": {
        "colab": {
          "base_uri": "https://localhost:8080/"
        },
        "id": "FdEnD4wK0I3O",
        "outputId": "efb7152b-0199-40d8-ab19-9a8d2f711478"
      },
      "execution_count": 8,
      "outputs": [
        {
          "output_type": "stream",
          "name": "stdout",
          "text": [
            "0.6\n"
          ]
        }
      ]
    }
  ]
}